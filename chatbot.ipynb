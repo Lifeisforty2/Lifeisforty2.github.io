{
  "cells": [
    {
      "cell_type": "markdown",
      "metadata": {
        "id": "view-in-github",
        "colab_type": "text"
      },
      "source": [
        "<a href=\"https://colab.research.google.com/github/Lifeisforty2/Lifeisforty2.github.io/blob/main/chatbot.ipynb\" target=\"_parent\"><img src=\"https://colab.research.google.com/assets/colab-badge.svg\" alt=\"Open In Colab\"/></a>"
      ]
    },
    {
      "cell_type": "code",
      "source": [
        "'''\n",
        "///////////////****************FIXME cell****************////////////////////////\n",
        "\n",
        "    Here we use PyDictionary to compare user answers to the trained answers.\n",
        "    Since there are many ways a question can be answered, it can be assumed the\n",
        "    user may provide an answer that differs from the expected answer.\n",
        "    Thus, if the bot deems the user answer to be 'incorrect', it will then check\n",
        "    if the answer is 'close enough' to th expected answer.\n",
        "    This will be achieved by comparing words used in the expected and given answers\n",
        "    and check if the expected word and given word:\n",
        "        - are synonyms\n",
        "        - have similar meanings\n",
        "        - share a synonym or synonyms\n",
        "    The results of these checks will provide an overall accuracy of the given answer.\n",
        "    This accuracy will determine if the user answer is 'correct'.\n",
        "'''\n",
        "from numpy.ma import empty\n",
        "import numpy as np\n",
        "from PyDictionary import PyDictionary\n",
        "dictionary = PyDictionary() # create a new english dictionary\n",
        "\n",
        "'''\n",
        "    def get_answer_accuracy(answer) determines if the user's answer is 'correct'\n",
        "    or accurate enough to the expected answer.\n",
        "'''\n",
        "def get_answer_accuracy(user_response, question_asked):\n",
        "  answer_acc = 0.0   # initialize to a float\n",
        "  valid_word = False # used to check if given word is a valid word\n",
        "  correct = 0\n",
        "  total = 0\n",
        "\n",
        "  # split each response into a numpy array of words\n",
        "  user_words = np.char.split(user_response)\n",
        "  expected_words = np.char.split(question_asked)\n",
        "\n",
        "  # loop through the arrays and compare each word\n",
        "  for word in enumerate(user_words):\n",
        "    for expected in enumerate(question_asked):\n",
        "      # check if the word is a valid word\n",
        "      valid_word = bool(dictionary.meaning(word))\n",
        "\n",
        "      if (valid_word == True):\n",
        "        # if the words match exactly\n",
        "        if word == expected:\n",
        "          correct += 1\n",
        "          total += 1\n",
        "\n",
        "        # if the words do not match\n",
        "        else:\n",
        "          # check if the words are synonyms\n",
        "          synonyms = dictionary.synonym(expected)\n",
        "\n",
        "          if word in synonyms:\n",
        "            correct += 1\n",
        "            total += 1\n",
        "\n",
        "          # if the words are not synonyms, check if they share a synonym\n",
        "          else:\n",
        "            synonyms2 = dictionary.synonym(word)\n",
        "\n",
        "            # check if the intersection of the synonym lists contain any shared elements\n",
        "            shared = bool(set(synonyms).intersection(synonyms2))\n",
        "            if (len(shared) > 0 and word not in synonyms and expected not in synonyms2 and shared == True):\n",
        "              correct += 1\n",
        "              total += 1\n",
        "\n",
        "           # if the words don't share a synonym\n",
        "            else:\n",
        "              total += 1\n",
        "\n",
        "  # get the overall accuracy\n",
        "  answer_acc = correct / total\n",
        "\n",
        "  return answer_acc   # return the overall accuracy of the user's answer"
      ],
      "metadata": {
        "id": "Ci8JUvkBuZD7",
        "colab": {
          "base_uri": "https://localhost:8080/",
          "height": 404
        },
        "outputId": "9aba0419-db13-46a5-f10b-5ef4b14c35ee"
      },
      "execution_count": 1,
      "outputs": [
        {
          "output_type": "error",
          "ename": "ModuleNotFoundError",
          "evalue": "ignored",
          "traceback": [
            "\u001b[0;31m---------------------------------------------------------------------------\u001b[0m",
            "\u001b[0;31mModuleNotFoundError\u001b[0m                       Traceback (most recent call last)",
            "\u001b[0;32m<ipython-input-1-3d86110a0870>\u001b[0m in \u001b[0;36m<cell line: 17>\u001b[0;34m()\u001b[0m\n\u001b[1;32m     15\u001b[0m '''\n\u001b[1;32m     16\u001b[0m \u001b[0;32mimport\u001b[0m \u001b[0mnumpy\u001b[0m \u001b[0;32mas\u001b[0m \u001b[0mnp\u001b[0m\u001b[0;34m\u001b[0m\u001b[0;34m\u001b[0m\u001b[0m\n\u001b[0;32m---> 17\u001b[0;31m \u001b[0;32mfrom\u001b[0m \u001b[0mPyDictionary\u001b[0m \u001b[0;32mimport\u001b[0m \u001b[0mPyDictionary\u001b[0m\u001b[0;34m\u001b[0m\u001b[0;34m\u001b[0m\u001b[0m\n\u001b[0m\u001b[1;32m     18\u001b[0m \u001b[0mdictionary\u001b[0m \u001b[0;34m=\u001b[0m \u001b[0mPyDictionary\u001b[0m\u001b[0;34m(\u001b[0m\u001b[0;34m)\u001b[0m \u001b[0;31m# create a new english dictionary\u001b[0m\u001b[0;34m\u001b[0m\u001b[0;34m\u001b[0m\u001b[0m\n\u001b[1;32m     19\u001b[0m \u001b[0;34m\u001b[0m\u001b[0m\n",
            "\u001b[0;31mModuleNotFoundError\u001b[0m: No module named 'PyDictionary'",
            "",
            "\u001b[0;31m---------------------------------------------------------------------------\u001b[0;32m\nNOTE: If your import is failing due to a missing package, you can\nmanually install dependencies using either !pip or !apt.\n\nTo view examples of installing some common dependencies, click the\n\"Open Examples\" button below.\n\u001b[0;31m---------------------------------------------------------------------------\u001b[0m\n"
          ],
          "errorDetails": {
            "actions": [
              {
                "action": "open_url",
                "actionText": "Open Examples",
                "url": "/notebooks/snippets/importing_libraries.ipynb"
              }
            ]
          }
        }
      ]
    },
    {
      "cell_type": "code",
      "source": [
        "# create labels list with index labels\n",
        "# create questions list with questions\n",
        "labels = [1, 2, 3, 4, 4]\n",
        "questions = [\"define a class\", \"define a function\", \"define a loop\", \"define a class variable in java\", \"define a instance variable in java\"]\n",
        "# answers list with answers\n",
        "#class var and instanc var have same answer\n",
        "answers = [\"a class is a blueprint for the object\", \"a function is a block of code to carry out a specific task\", \"a loop is used to iterate over a sequence of elements\", \\\n",
        "           \"a class variable (sometimes called an instance variable) is a variable that is associated with a class and not objects of that class. It is a variable that belongs to the class and not to object(instance).\"]"
      ],
      "metadata": {
        "id": "P1tx6jV41wNU"
      },
      "execution_count": 2,
      "outputs": []
    },
    {
      "cell_type": "code",
      "execution_count": 3,
      "metadata": {
        "id": "aXefnCWLNNjJ"
      },
      "outputs": [],
      "source": [
        "'''\n",
        "    Here we will use the CountVectorizer class from sklearn to convert the questions to vectors\n",
        "    The CountVectorizer class converts a collection of text documents to a matrix of token counts\n",
        "    Each row represents a document in the corpus, and each column represents a token in the vocabulary\n",
        "    The value in each cell is the frequency of occurrence of a particular token in a particular document\n",
        "    The CountVectorizer class has a fit_transform() method that converts the questions to vectors\n",
        "    The fit_transform() method takes the questions as input and returns a matrix of token counts\n",
        "    The fit_transform() method also creates a vocabulary of unique tokens from the questions\n",
        "    The vocabulary is a dictionary that maps each token to a unique integer index\n",
        "\n",
        "'''\n",
        "from sklearn.feature_extraction.text import CountVectorizer\n",
        "vectorizer = CountVectorizer() # create an instance of CountVectorizer\n",
        "training_centers = vectorizer.fit_transform(questions) # fit_transform() method to convert the questions to vectors\n"
      ]
    },
    {
      "cell_type": "code",
      "execution_count": 4,
      "metadata": {
        "id": "SS7jmek0NNjK",
        "outputId": "a56dbcfc-9adc-4dd0-96d4-0eac114abfdf",
        "colab": {
          "base_uri": "https://localhost:8080/",
          "height": 75
        }
      },
      "outputs": [
        {
          "output_type": "execute_result",
          "data": {
            "text/plain": [
              "MultinomialNB()"
            ],
            "text/html": [
              "<style>#sk-container-id-1 {color: black;background-color: white;}#sk-container-id-1 pre{padding: 0;}#sk-container-id-1 div.sk-toggleable {background-color: white;}#sk-container-id-1 label.sk-toggleable__label {cursor: pointer;display: block;width: 100%;margin-bottom: 0;padding: 0.3em;box-sizing: border-box;text-align: center;}#sk-container-id-1 label.sk-toggleable__label-arrow:before {content: \"▸\";float: left;margin-right: 0.25em;color: #696969;}#sk-container-id-1 label.sk-toggleable__label-arrow:hover:before {color: black;}#sk-container-id-1 div.sk-estimator:hover label.sk-toggleable__label-arrow:before {color: black;}#sk-container-id-1 div.sk-toggleable__content {max-height: 0;max-width: 0;overflow: hidden;text-align: left;background-color: #f0f8ff;}#sk-container-id-1 div.sk-toggleable__content pre {margin: 0.2em;color: black;border-radius: 0.25em;background-color: #f0f8ff;}#sk-container-id-1 input.sk-toggleable__control:checked~div.sk-toggleable__content {max-height: 200px;max-width: 100%;overflow: auto;}#sk-container-id-1 input.sk-toggleable__control:checked~label.sk-toggleable__label-arrow:before {content: \"▾\";}#sk-container-id-1 div.sk-estimator input.sk-toggleable__control:checked~label.sk-toggleable__label {background-color: #d4ebff;}#sk-container-id-1 div.sk-label input.sk-toggleable__control:checked~label.sk-toggleable__label {background-color: #d4ebff;}#sk-container-id-1 input.sk-hidden--visually {border: 0;clip: rect(1px 1px 1px 1px);clip: rect(1px, 1px, 1px, 1px);height: 1px;margin: -1px;overflow: hidden;padding: 0;position: absolute;width: 1px;}#sk-container-id-1 div.sk-estimator {font-family: monospace;background-color: #f0f8ff;border: 1px dotted black;border-radius: 0.25em;box-sizing: border-box;margin-bottom: 0.5em;}#sk-container-id-1 div.sk-estimator:hover {background-color: #d4ebff;}#sk-container-id-1 div.sk-parallel-item::after {content: \"\";width: 100%;border-bottom: 1px solid gray;flex-grow: 1;}#sk-container-id-1 div.sk-label:hover label.sk-toggleable__label {background-color: #d4ebff;}#sk-container-id-1 div.sk-serial::before {content: \"\";position: absolute;border-left: 1px solid gray;box-sizing: border-box;top: 0;bottom: 0;left: 50%;z-index: 0;}#sk-container-id-1 div.sk-serial {display: flex;flex-direction: column;align-items: center;background-color: white;padding-right: 0.2em;padding-left: 0.2em;position: relative;}#sk-container-id-1 div.sk-item {position: relative;z-index: 1;}#sk-container-id-1 div.sk-parallel {display: flex;align-items: stretch;justify-content: center;background-color: white;position: relative;}#sk-container-id-1 div.sk-item::before, #sk-container-id-1 div.sk-parallel-item::before {content: \"\";position: absolute;border-left: 1px solid gray;box-sizing: border-box;top: 0;bottom: 0;left: 50%;z-index: -1;}#sk-container-id-1 div.sk-parallel-item {display: flex;flex-direction: column;z-index: 1;position: relative;background-color: white;}#sk-container-id-1 div.sk-parallel-item:first-child::after {align-self: flex-end;width: 50%;}#sk-container-id-1 div.sk-parallel-item:last-child::after {align-self: flex-start;width: 50%;}#sk-container-id-1 div.sk-parallel-item:only-child::after {width: 0;}#sk-container-id-1 div.sk-dashed-wrapped {border: 1px dashed gray;margin: 0 0.4em 0.5em 0.4em;box-sizing: border-box;padding-bottom: 0.4em;background-color: white;}#sk-container-id-1 div.sk-label label {font-family: monospace;font-weight: bold;display: inline-block;line-height: 1.2em;}#sk-container-id-1 div.sk-label-container {text-align: center;}#sk-container-id-1 div.sk-container {/* jupyter's `normalize.less` sets `[hidden] { display: none; }` but bootstrap.min.css set `[hidden] { display: none !important; }` so we also need the `!important` here to be able to override the default hidden behavior on the sphinx rendered scikit-learn.org. See: https://github.com/scikit-learn/scikit-learn/issues/21755 */display: inline-block !important;position: relative;}#sk-container-id-1 div.sk-text-repr-fallback {display: none;}</style><div id=\"sk-container-id-1\" class=\"sk-top-container\"><div class=\"sk-text-repr-fallback\"><pre>MultinomialNB()</pre><b>In a Jupyter environment, please rerun this cell to show the HTML representation or trust the notebook. <br />On GitHub, the HTML representation is unable to render, please try loading this page with nbviewer.org.</b></div><div class=\"sk-container\" hidden><div class=\"sk-item\"><div class=\"sk-estimator sk-toggleable\"><input class=\"sk-toggleable__control sk-hidden--visually\" id=\"sk-estimator-id-1\" type=\"checkbox\" checked><label for=\"sk-estimator-id-1\" class=\"sk-toggleable__label sk-toggleable__label-arrow\">MultinomialNB</label><div class=\"sk-toggleable__content\"><pre>MultinomialNB()</pre></div></div></div></div></div>"
            ]
          },
          "metadata": {},
          "execution_count": 4
        }
      ],
      "source": [
        "'''\n",
        "    Here we will use the MultinomialNB class from sklearn to create a Naive Bayes classifier\n",
        "'''\n",
        "from sklearn.naive_bayes import MultinomialNB\n",
        "classifier = MultinomialNB() # create our classifier\n",
        "classifier.fit(training_centers, labels) # train our classifier\n"
      ]
    },
    {
      "cell_type": "code",
      "execution_count": 6,
      "metadata": {
        "id": "h4SlZoZjNNjM"
      },
      "outputs": [],
      "source": [
        "global score # keeps number of correct/incorrect\n",
        "score = {\"correct\": 0, \"incorrect\": 0}\n",
        "global questions_asked # keeps track of questions asked to exit chat\n",
        "questions_asked = []\n",
        "\n",
        "import random\n",
        "class ChatBot:\n",
        "    exit_commands = [\"quit\", \"pause\", \"exit\", \"goodbye\", \"bye\", \"later\", \"stop\"]\n",
        "    '''\n",
        "        def start_chat(self) starts the chat by asking the user a question\n",
        "    '''\n",
        "    def start_chat(self):\n",
        "        # introduce the chatbot and ask if the user is ready to begin the interview\n",
        "        print(\"Hi, I'm a chatbot trained to ask you questions about data science\\n\")\n",
        "        print(\"During the interview, you will be asked a short series of programming questions\\n\")\n",
        "        print(\"that focus on Java and general logic functions.\\n\")\n",
        "        print(\"If at any time you wish to exit the interview, type 'quit', 'exit', 'goodbye', 'bye', or 'stop'.\\n\")\n",
        "        print(\"Note that all progress will be lost if you exit before the interview concludes!\\n\")\n",
        "        user_response = input(\"Would you like to begin the interview?\\n\")\n",
        "        # if the user is ready to begin the interview\n",
        "        if self.make_exit(user_response) == False:\n",
        "            # respond with a great!\n",
        "            print(\"Great! Let's begin.\\n\")\n",
        "\n",
        "            # ask the user a question from the list of questions\n",
        "            aiquestion = self.generate_question()\n",
        "            # pass the question to the chat method which will take the input from the user and check if it's correct\n",
        "            self.chat(aiquestion)\n",
        "        # if the user is not ready to begin the interview\n",
        "        else:\n",
        "            # end the chat\n",
        "            self.exit_chat()\n",
        "\n",
        "    '''\n",
        "        def chat(self, questionAsked) takes in a question and asks the user the question\n",
        "        then takes the user's input and checks if it's correct\n",
        "\n",
        "    '''\n",
        "    def chat(self, questionAsked):\n",
        "        user_response = input(questionAsked + \"\\n\") # ask the user the question and get the response\n",
        "\n",
        "        while not self.make_exit(user_response): # while the user doesn't want to exit\n",
        "            # if questions_asked is full then end the chat\n",
        "            # append the question asked to the list of questions asked\n",
        "            questions_asked.append(questionAsked) # FIXME: uncomment this line\n",
        "\n",
        "            if self.check_answer(user_response, questionAsked): # check if the answer is correct\n",
        "                score[\"correct\"] += 1\n",
        "                print(\"Correct!\")\n",
        "                if len(questions_asked) == len(questions):\n",
        "                    print(\"That's all the questions I have for you today. But before you go, let's see how you did.\")\n",
        "                    print(\"You got \" + str(score[\"correct\"]) + \" questions correct and \" + str(score[\"incorrect\"]) + \" questions incorrect.\")\n",
        "                    return\n",
        "                questionAsked = self.generate_question() # generate another question\n",
        "                user_response = input(questionAsked + \"\\n\") # ask the user the question and get the response\n",
        "            else: # if the answer is incorrect, then pick another question\n",
        "                score[\"incorrect\"] += 1 # increment the number of incorrect answers FIXME: uncomment this line\n",
        "                print(\"Incorrect!\")\n",
        "                if len(questions_asked) == len(questions):\n",
        "                    print(\"That's all the questions I have for you today. But before you go, let's see how you did.\")\n",
        "                    print(\"You got \" + str(score[\"correct\"]) + \" questions correct and \" + str(score[\"incorrect\"]) + \" questions incorrect.\")\n",
        "                    return\n",
        "                questionAsked = self.generate_question() # generate another question\n",
        "                user_response = input(questionAsked + \"\\n\") # ask the user the question and get the response\n",
        "        return\n",
        "    '''\n",
        "        def check_answer(self, user_response, questionAsked) takes in the user's response and the question asked\n",
        "        and returns True if the answer is correct and False otherwise\n",
        "        this is done by first predicting the label of the question asked and then using the label to get the answer\n",
        "        then the answer is compared to the user's response\n",
        "    '''\n",
        "    def check_answer(self, user_answer, questionAsked):\n",
        "        # predict the label of the question so we can get the index of the question\n",
        "        input_vector = vectorizer.transform([questionAsked]) # convert the question to a vector\n",
        "        predict = classifier.predict(input_vector) # predict the label of the vector\n",
        "        index = int(predict[0]) # get the index of the label\n",
        "        print(\"Accuracy of the classifiers prediction: \" + str(classifier.predict_proba(input_vector)[0][index-1]*100)[:5] + \"%\") # FIXME: print the accuracy of the prediction\n",
        "        # use the index to get the answer from the answers list\n",
        "        correct_answer = answers[index-1]\n",
        "\n",
        "        # remove punctuation and convert to lowercase\n",
        "        # remove parenthesis and commas\n",
        "        for char in '-.,\\n()':\n",
        "            correct_answer = correct_answer.replace(char,' ')\n",
        "            user_answer = user_answer.replace(char,' ')\n",
        "\n",
        "        ##### To increase accuracy, i created two list of common short forms of words and a list with the correct form of the words #####\n",
        "        # sometimes people use short forms of words like \"that's\" instead of \"that is\" or \"it's\" instead of \"it is\"\n",
        "        # replace the user's answer with the correct word\n",
        "        short_forms = [\"that's\", \"it's\", \"i'm\", \"you're\", \"we're\", \"they're\"]\n",
        "        short_forms_without_apostrophe = [\"thats\", \"its\", \"im\", \"youre\", \"were\", \"theyre\"]\n",
        "        correct_form = [\"that is\", \"it is\", \"i am\", \"you are\", \"we are\", \"they are\"]\n",
        "        for i in range(len(short_forms)):\n",
        "            if short_forms[i] in user_answer:\n",
        "                user_answer = user_answer.replace(short_forms[i], correct_form[i])\n",
        "            elif short_forms_without_apostrophe[i] in user_answer:\n",
        "                user_answer = user_answer.replace(short_forms_without_apostrophe[i], correct_form[i])\n",
        "\n",
        "        correct_answer = correct_answer.strip() # remove extra spaces\n",
        "        user_answer = user_answer.strip()       # remove extra spaces\n",
        "        correct_answer = correct_answer.lower().split() # convert to lowercase and split into a list\n",
        "        user_answer = user_answer.lower().split()       # convert to lowercase and split into a list\n",
        "\n",
        "        common = set(correct_answer).intersection(user_answer) # get the words in common\n",
        "        # show accuracy in the users answer\n",
        "        # accuracy = number of words in common/number of words in correct answer\n",
        "        accuracy = len(common)/len(correct_answer)\n",
        "        print(\"Accuracy of users answer: \" + str(accuracy*100)[:5] + \"%\")\n",
        "        #print(\"correct_answer: \" + str(correct_answer))\n",
        "        #print(\"user_answer: \" + str(user_answer))\n",
        "        # if the accuracy is greater than 45% then the answer is correct\n",
        "        if accuracy > 0.45:\n",
        "            return True # the answer is correct\n",
        "        else:\n",
        "            return False # the answer is incorrect\n",
        "\n",
        "    '''\n",
        "        def make_exit(self, reply) takes in a reply and returns True if the user wants to exit\n",
        "        and False otherwise\n",
        "    '''\n",
        "    def make_exit(self, reply):\n",
        "        for exit_command in self.exit_commands:\n",
        "            if exit_command in reply:\n",
        "                print(\"Goodbye!\")\n",
        "                return True\n",
        "        return False\n",
        "    '''\n",
        "        def generate_question(self) returns a random question from the list of questions\n",
        "    '''\n",
        "    def generate_question(self):\n",
        "        # create a list of questions asked to keep track of which questions have been asked\n",
        "        # and remove the question from the list of questions\n",
        "        selected_question = random.choice(questions) # select a random question from the list of questions\n",
        "        # if the question has already been asked then select another random question\n",
        "        while selected_question in questions_asked:\n",
        "            selected_question = random.choice(questions) # select another random question from the list of questions\n",
        "        return selected_question\n",
        "\n",
        ""
      ]
    },
    {
      "cell_type": "code",
      "execution_count": null,
      "metadata": {
        "id": "Ldm7QYOwNNjN",
        "outputId": "bafd4535-99cd-4e5a-9400-fcadc36d3a9f",
        "colab": {
          "base_uri": "https://localhost:8080/"
        }
      },
      "outputs": [
        {
          "output_type": "stream",
          "name": "stdout",
          "text": [
            "Hi, I'm a chatbot trained to ask you questions about data science\n",
            "\n",
            "During the interview, you will be asked a short series of programming questions\n",
            "\n",
            "that focus on Java and general logic functions.\n",
            "\n",
            "If at any time you wish to exit the interview, type 'quit', 'exit', 'goodbye', 'bye', or 'stop'.\n",
            "\n",
            "Note that all progress will be lost if you exit before the interview concludes!\n",
            "\n",
            "Would you like to begin the interview?\n",
            "yes\n",
            "Great! Let's begin.\n",
            "\n",
            "define a loop\n",
            "a loop is a blueprint for the object\n",
            "Accuracy of the classifiers prediction: 40.60%\n",
            "Accuracy of users answer: 27.27%\n",
            "Incorrect!\n",
            "define a function\n",
            "a function is a block of code that carries out a specific task\n",
            "Accuracy of the classifiers prediction: 40.60%\n",
            "Accuracy of users answer: 69.23%\n",
            "Correct!\n",
            "define a class\n",
            "a class is a blueprint for the object\n",
            "Accuracy of the classifiers prediction: 34.17%\n",
            "Accuracy of users answer: 87.5%\n",
            "Correct!\n",
            "define a instance variable in java\n",
            "an instance variable, sometimes called a class variable is one that is associated with a class and not objects of that class. its a variable that belongs to the class and not to objects(instance)\n",
            "Accuracy of the classifiers prediction: 74.07%\n",
            "Accuracy of users answer: 48.64%\n",
            "Correct!\n",
            "define a class variable in java\n",
            "a class in java, sometimes called an instance variable is a variable thats associated with a class and not objects of that class. its a variable that belongs ot the class and not to objects or instnace\n",
            "Accuracy of the classifiers prediction: 68.18%\n",
            "Accuracy of users answer: 48.64%\n",
            "Correct!\n",
            "That's all the questions I have for you today. But before you go, let's see how you did.\n",
            "You got 4 questions correct and 1 questions incorrect.\n"
          ]
        }
      ],
      "source": [
        "etcetra = ChatBot()\n",
        "etcetra.start_chat()"
      ]
    }
  ],
  "metadata": {
    "kernelspec": {
      "display_name": "base",
      "language": "python",
      "name": "python3"
    },
    "language_info": {
      "codemirror_mode": {
        "name": "ipython",
        "version": 3
      },
      "file_extension": ".py",
      "mimetype": "text/x-python",
      "name": "python",
      "nbconvert_exporter": "python",
      "pygments_lexer": "ipython3",
      "version": "3.9.13"
    },
    "orig_nbformat": 4,
    "colab": {
      "provenance": [],
      "include_colab_link": true
    }
  },
  "nbformat": 4,
  "nbformat_minor": 0
}